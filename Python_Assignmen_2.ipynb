{
  "nbformat": 4,
  "nbformat_minor": 0,
  "metadata": {
    "colab": {
      "provenance": []
    },
    "kernelspec": {
      "name": "python3",
      "display_name": "Python 3"
    },
    "language_info": {
      "name": "python"
    }
  },
  "cells": [
    {
      "cell_type": "code",
      "source": [
        "import numpy as np\n",
        "#NumPy is the fundamental package for scientific computing in Python. \n",
        "#It is a Python library that provides a multidimensional array object, \n",
        "#various derived objects (such as masked arrays and matrices), \n",
        "#and an assortment of routines for fast operations on arrays, \n",
        "#including mathematical, logical, shape manipulation, sorting, \n",
        "#selecting, I/O, discrete Fourier transforms, basic linear algebra, \n",
        "#basic statistical operations, random simulation and much more./*"
      ],
      "metadata": {
        "id": "Yd1lDA9vQQMj"
      },
      "execution_count": 1,
      "outputs": []
    },
    {
      "cell_type": "code",
      "source": [
        "#Function One\n",
        "#add is used for concatenation of array\n",
        "\n",
        "#1\n",
        "np.char.add([\"I don't\", \"ple\"],[' want to do this', 'ase'])\n",
        "\n",
        "#2\n",
        "a = np.array([[1, 1], [2, 2], [3, 3]])\n",
        "print(a)\n",
        "b=np.insert(a, 1, 5)\n",
        "print(b)"
      ],
      "metadata": {
        "colab": {
          "base_uri": "https://localhost:8080/"
        },
        "id": "cwbllZktQ9Eh",
        "outputId": "80d25465-6c2f-4b4d-bf87-c3853bb50ad7"
      },
      "execution_count": 2,
      "outputs": [
        {
          "output_type": "stream",
          "name": "stdout",
          "text": [
            "[[1 1]\n",
            " [2 2]\n",
            " [3 3]]\n",
            "[1 5 1 2 2 3 3]\n"
          ]
        }
      ]
    },
    {
      "cell_type": "code",
      "source": [
        "#array manipulation Routine\n",
        "x1 = np.arange(16.0).reshape(4, 4)\n",
        "print('Original Array')\n",
        "print(x1)\n",
        "\n",
        "#Horizontol Split\n",
        "hs=np.hsplit(x1,2)\n",
        "print('\\nHorizontal Split Array')\n",
        "print(hs)\n",
        "\n",
        "#Vertical Split\n",
        "vs=np.vsplit(x1,2)\n",
        "print('\\nVertical Split Array')\n",
        "print(vs)\n",
        "\n",
        "#split\n",
        "s=np.split(x1,4)\n",
        "print('\\nSpliting Array')\n",
        "print(s)\n",
        "\n",
        "\n",
        "\n"
      ],
      "metadata": {
        "id": "Bvk_8WjoiFk4"
      },
      "execution_count": null,
      "outputs": []
    },
    {
      "cell_type": "code",
      "source": [
        "#String Operations\n",
        "#Concatenate\n",
        "#It is used to join two or more strings\n",
        "x2= np.arange(16,32).reshape(4,4)\n",
        "print(\"\\nConcatenate Arrays\")\n",
        "print(np.concatenate((x1,x2),axis=None))\n",
        "\n",
        "s1='HI'\n",
        "s2='Whats up'\n",
        "s3=np.concatenate((s1,s2),axis=None)\n",
        "print(s3)\n",
        "\n",
        "s4=np.concatenate((s1,x2),axis=None)\n",
        "print(s4)\n",
        "\n"
      ],
      "metadata": {
        "colab": {
          "base_uri": "https://localhost:8080/"
        },
        "id": "mm3fSfvDnPJE",
        "outputId": "50d86b64-bf08-4322-cee1-0ee44830b1a9"
      },
      "execution_count": 13,
      "outputs": [
        {
          "output_type": "stream",
          "name": "stdout",
          "text": [
            "\n",
            "Concatenate Arrays\n",
            "[ 0.  1.  2.  3.  4.  5.  6.  7.  8.  9. 10. 11. 12. 13. 14. 15. 16. 17.\n",
            " 18. 19. 20. 21. 22. 23. 24. 25. 26. 27. 28. 29. 30. 31.]\n",
            "['HI' 'Whats up']\n",
            "['HI' '16' '17' '18' '19' '20' '21' '22' '23' '24' '25' '26' '27' '28'\n",
            " '29' '30' '31']\n",
            "[b'a1Bc' b'B12sd' b'b Ca1' b'GHEfs']\n",
            "[b'A1bC' b'b12SD' b'B cA1' b'gheFS']\n"
          ]
        }
      ]
    },
    {
      "cell_type": "code",
      "source": [
        "#Count\n",
        "#This function is used to count specific data in an array\n",
        "\n",
        "cou=np.array(['John', 'OOwen', 'Jacob', 'ChandOler'])\n",
        "cou1=np.char.count(cou,'o')\n",
        "print(cou1)\n",
        "\n",
        "cou2=np.char.count(cou,'O')\n",
        "print(cou2)\n",
        "\n",
        "cou3=np.char.count(cou,'O',start=2,end=6)\n",
        "print(cou3)"
      ],
      "metadata": {
        "colab": {
          "base_uri": "https://localhost:8080/"
        },
        "id": "Q2dZTJC4nQOc",
        "outputId": "76c725d9-b9b0-4deb-8c85-2ed1012366f9"
      },
      "execution_count": 30,
      "outputs": [
        {
          "output_type": "stream",
          "name": "stdout",
          "text": [
            "[1 0 1 0]\n",
            "[0 2 0 1]\n",
            "[0 0 0 1]\n"
          ]
        }
      ]
    },
    {
      "cell_type": "code",
      "source": [
        "#Find\n",
        "#Find function is used to find a word in an array\n",
        "find1 = np.array([\"Where Is Waldo\"])\n",
        "find2=np.char.find(find1, \"Waldo\")\n",
        "print(find2)\n",
        "\n",
        "find3 = np.array([\"Where Is Waldo\",'Waldo Is Here'])\n",
        "find4=np.char.find(find3, \"Waldo\", start=0 , end=6)\n",
        "print(find4)\n",
        "#Here since end is given as 6 first 'Waldo' is found at -1, i.e it started backwards\n",
        "\n",
        "find5= np.array([\"Where Is Waldo\",'Waldo Is Here'])\n",
        "find6=np.char.find(find3, \"Waldo\", start=0 , end=4)\n",
        "print(find6)\n",
        "#Here since end is 4 it shows -1 for second 'Waldo'"
      ],
      "metadata": {
        "colab": {
          "base_uri": "https://localhost:8080/"
        },
        "id": "G8BWFuHhSyYS",
        "outputId": "158f6d9d-2719-433e-8af9-71d33a1669e9"
      },
      "execution_count": 69,
      "outputs": [
        {
          "output_type": "stream",
          "name": "stdout",
          "text": [
            "[9]\n",
            "[-1  0]\n",
            "[-1 -1]\n"
          ]
        }
      ]
    },
    {
      "cell_type": "code",
      "source": [
        "#Comparsion\n",
        "\n",
        "#Equal\n",
        "n1=np.array(['xyz','abc','pqr'])\n",
        "n2=np.array(['XYZ','ABC','PQR'])\n",
        "n3=np.array(['abc','pqr','xyz'])\n",
        "n6=np.array(['xyz','abc','pqr'])\n",
        "n4=np.char.equal(n1,n2)\n",
        "n5=np.char.equal(n1,n3)\n",
        "n7=np.char.equal(n1,n6)\n",
        "print(n4)\n",
        "#Equal is case sensitive\n",
        "print(n5)\n",
        "#For Equal function order is important\n",
        "print(n7)\n",
        "\n",
        "#Greater than Less than\n",
        "n8=np.char.greater(n1,n2)\n",
        "n9=np.char.greater(n1,n3)\n",
        "n10=np.char.greater(n1,n6)\n",
        "print(n8)\n",
        "#Since n1 consists of small letters and n2 consists of capital laters n1 is greater\n",
        "print(n9)\n",
        "#Since in n1 first element in xyz and in n3 it starts with abc it is false and for later abc and pqr is greater than pqr and xyz respectively \n",
        "print(n10)\n",
        "#Since function used is greater and not greater_equal its false\n",
        "\n",
        "#Greater_equal\n",
        "n11=np.char.greater_equal(n1,n6)\n",
        "print(n11)"
      ],
      "metadata": {
        "colab": {
          "base_uri": "https://localhost:8080/"
        },
        "id": "1vFgNdriqfKh",
        "outputId": "9e204a98-ffd1-40b0-f25a-3ec61f8b91f4"
      },
      "execution_count": 13,
      "outputs": [
        {
          "output_type": "stream",
          "name": "stdout",
          "text": [
            "[False False False]\n",
            "[False False False]\n",
            "[ True  True  True]\n",
            "[ True  True  True]\n",
            "[ True False False]\n",
            "[False False False]\n",
            "[ True  True  True]\n"
          ]
        }
      ]
    }
  ]
}